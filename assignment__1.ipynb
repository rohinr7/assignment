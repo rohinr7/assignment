{
  "nbformat": 4,
  "nbformat_minor": 0,
  "metadata": {
    "colab": {
      "name": "assignment _1.ipynb",
      "provenance": []
    },
    "kernelspec": {
      "name": "python3",
      "display_name": "Python 3"
    },
    "language_info": {
      "name": "python"
    }
  },
  "cells": [
    {
      "cell_type": "markdown",
      "metadata": {
        "id": "7nVAMrljCqvs"
      },
      "source": [
        "Assignment 1\n",
        "Exercise-1"
      ]
    },
    {
      "cell_type": "code",
      "metadata": {
        "colab": {
          "base_uri": "https://localhost:8080/"
        },
        "id": "sOZWFp_K2XYT",
        "outputId": "e9e7cb8a-baba-4402-ca8c-55ba79f9bca9"
      },
      "source": [
        "nl=[]\n",
        "for x in range(2000, 3000):\n",
        "    if (x%7==0) and (x%5!=0):\n",
        "        nl.append(str(x))\n",
        "print (','.join(nl))"
      ],
      "execution_count": 2,
      "outputs": [
        {
          "output_type": "stream",
          "name": "stdout",
          "text": [
            "2002,2009,2016,2023,2037,2044,2051,2058,2072,2079,2086,2093,2107,2114,2121,2128,2142,2149,2156,2163,2177,2184,2191,2198,2212,2219,2226,2233,2247,2254,2261,2268,2282,2289,2296,2303,2317,2324,2331,2338,2352,2359,2366,2373,2387,2394,2401,2408,2422,2429,2436,2443,2457,2464,2471,2478,2492,2499,2506,2513,2527,2534,2541,2548,2562,2569,2576,2583,2597,2604,2611,2618,2632,2639,2646,2653,2667,2674,2681,2688,2702,2709,2716,2723,2737,2744,2751,2758,2772,2779,2786,2793,2807,2814,2821,2828,2842,2849,2856,2863,2877,2884,2891,2898,2912,2919,2926,2933,2947,2954,2961,2968,2982,2989,2996\n"
          ]
        }
      ]
    },
    {
      "cell_type": "markdown",
      "metadata": {
        "id": "IErjNJ3yCpNV"
      },
      "source": [
        "Exercise-2"
      ]
    },
    {
      "cell_type": "code",
      "metadata": {
        "colab": {
          "base_uri": "https://localhost:8080/"
        },
        "id": "BSG3VzJMDB3u",
        "outputId": "346a55b7-481e-4629-8a05-bf4cc9c475d5"
      },
      "source": [
        "a= input(\"enter the first name:\")\n",
        "b= input(\"enter the last name:\")\n",
        "print(a[::-1],\" \",b[::-1])"
      ],
      "execution_count": 4,
      "outputs": [
        {
          "output_type": "stream",
          "name": "stdout",
          "text": [
            "enter the first name:rohin\n",
            "enter the last name:ramesh\n",
            "nihor   hsemar\n"
          ]
        }
      ]
    },
    {
      "cell_type": "markdown",
      "metadata": {
        "id": "7Sfz20rCFT1u"
      },
      "source": [
        "Exercise-3"
      ]
    },
    {
      "cell_type": "code",
      "metadata": {
        "colab": {
          "base_uri": "https://localhost:8080/"
        },
        "id": "pCpzmcdqFR52",
        "outputId": "91c60b2b-31ba-4a57-8ee2-9f2a66221165"
      },
      "source": [
        "d=12\n",
        "r=d/2\n",
        "v=4/3*3.14*r**3\n",
        "print(v)"
      ],
      "execution_count": 5,
      "outputs": [
        {
          "output_type": "stream",
          "name": "stdout",
          "text": [
            "904.3199999999999\n"
          ]
        }
      ]
    }
  ]
}