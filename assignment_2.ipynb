{
  "nbformat": 4,
  "nbformat_minor": 0,
  "metadata": {
    "colab": {
      "name": "assignment_2.ipynb",
      "provenance": []
    },
    "kernelspec": {
      "name": "python3",
      "display_name": "Python 3"
    },
    "language_info": {
      "name": "python"
    }
  },
  "cells": [
    {
      "cell_type": "markdown",
      "metadata": {
        "id": "iHk0Oi0NpcOP"
      },
      "source": [
        "Exercise 1"
      ]
    },
    {
      "cell_type": "code",
      "metadata": {
        "colab": {
          "base_uri": "https://localhost:8080/"
        },
        "id": "POqWK4wWpbVK",
        "outputId": "2826a61c-bb7f-4eec-8d3a-4b9f84d0bfc3"
      },
      "source": [
        "n=5 \n",
        "for i in range(n):\n",
        "  for j in range(i+1):\n",
        "      print(\"0\", end=\"\")\n",
        "  print(\"\")  \n",
        "for i in range(n,0,-1):\n",
        "  for j in range(i-1):\n",
        "      print(\"0\", end=\"\")\n",
        "  print(\"\")    "
      ],
      "execution_count": 1,
      "outputs": [
        {
          "output_type": "stream",
          "name": "stdout",
          "text": [
            "0\n",
            "00\n",
            "000\n",
            "0000\n",
            "00000\n",
            "0000\n",
            "000\n",
            "00\n",
            "0\n",
            "\n"
          ]
        }
      ]
    },
    {
      "cell_type": "markdown",
      "metadata": {
        "id": "GYhvk_Anpnq3"
      },
      "source": [
        "Exercise 2"
      ]
    },
    {
      "cell_type": "code",
      "metadata": {
        "colab": {
          "base_uri": "https://localhost:8080/"
        },
        "id": "ceJIKIypplWy",
        "outputId": "373dfb8f-d2f1-4a2f-9962-22681e7fd3b3"
      },
      "source": [
        "a= input(\"Enter the word:\")\n",
        "print(a[::-1])"
      ],
      "execution_count": 2,
      "outputs": [
        {
          "output_type": "stream",
          "name": "stdout",
          "text": [
            "Enter the word:ineuron\n",
            "norueni\n"
          ]
        }
      ]
    }
  ]
}